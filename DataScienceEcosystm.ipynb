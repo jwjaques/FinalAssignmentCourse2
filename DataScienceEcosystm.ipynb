{
 "cells": [
  {
   "cell_type": "markdown",
   "id": "b3980643-4e59-49d4-bc43-871a7cdfcd7d",
   "metadata": {},
   "source": [
    "# Data Science Tools and Ecosystem"
   ]
  },
  {
   "cell_type": "markdown",
   "id": "f9f99a87-5f89-4609-bd2b-ebf210753f98",
   "metadata": {},
   "source": [
    "## Author\n",
    "John Jaques"
   ]
  },
  {
   "cell_type": "markdown",
   "id": "f5a12b1c-9940-4ab0-ba00-1e5ca3dd451a",
   "metadata": {},
   "source": [
    "In this notebook, Data Science Tools and Ecosystem are summarized."
   ]
  },
  {
   "cell_type": "markdown",
   "id": "978517aa-0c13-4fbe-9c15-842c3e25509a",
   "metadata": {},
   "source": [
    "__Objectives__\n",
    " - List popular languages\n",
    " - List common libraries\n",
    " - Table DS Tools\n",
    " - Create examples of arithmetic operations in Python"
   ]
  },
  {
   "cell_type": "markdown",
   "id": "7a5bd835-c62f-49d0-a873-63a86b309352",
   "metadata": {},
   "source": [
    "Some of the popular languages that Data Scientists use are:\n",
    "1. Python\n",
    "2. R\n",
    "3. SQL\n",
    "4. JavaScript\n",
    "5. Julia"
   ]
  },
  {
   "cell_type": "markdown",
   "id": "ccf43aa2-f690-4fbc-8755-eb7263020c1e",
   "metadata": {},
   "source": [
    "Some of the commonly used libraries used by Data Scientists include:\n",
    "1. Pandas\n",
    "2. NumPy\n",
    "3. Matplotlib\n",
    "4. SciPy\n",
    "5. Plotly\n"
   ]
  },
  {
   "cell_type": "markdown",
   "id": "22c7c976-a4fa-4baf-b4cf-8d3a99382fc9",
   "metadata": {},
   "source": [
    "|Data Science Tools |\n",
    "| --------------- |\n",
    "| Jupyter Notebooks |\n",
    "| RStudio |\n",
    "| Tableau |\n",
    "| Apache Spark |"
   ]
  },
  {
   "cell_type": "markdown",
   "id": "d1e46388-cf55-4319-85be-5e4400528361",
   "metadata": {},
   "source": [
    "### Below are a few examples of evaluating arithmetic expressions in Python"
   ]
  },
  {
   "cell_type": "code",
   "execution_count": 1,
   "id": "a1175328-9b69-49ed-84f5-49670c8da0d5",
   "metadata": {
    "tags": []
   },
   "outputs": [
    {
     "data": {
      "text/plain": [
       "17"
      ]
     },
     "execution_count": 1,
     "metadata": {},
     "output_type": "execute_result"
    }
   ],
   "source": [
    "# This a simple arithmetic expression to mutiply then add integers\n",
    "(3*4)+5"
   ]
  },
  {
   "cell_type": "code",
   "execution_count": 4,
   "id": "66b0ab08-dcf4-44ba-a409-3b688108dd9a",
   "metadata": {
    "tags": []
   },
   "outputs": [
    {
     "data": {
      "text/plain": [
       "3.3333333333333335"
      ]
     },
     "execution_count": 4,
     "metadata": {},
     "output_type": "execute_result"
    }
   ],
   "source": [
    "# This will convert 200 minutes to hours by dividing by 60\n",
    "200/60"
   ]
  },
  {
   "cell_type": "code",
   "execution_count": null,
   "id": "62286903-273f-4df4-b902-6be1d34f7ba5",
   "metadata": {},
   "outputs": [],
   "source": []
  }
 ],
 "metadata": {
  "kernelspec": {
   "display_name": "Python",
   "language": "python",
   "name": "conda-env-python-py"
  },
  "language_info": {
   "codemirror_mode": {
    "name": "ipython",
    "version": 3
   },
   "file_extension": ".py",
   "mimetype": "text/x-python",
   "name": "python",
   "nbconvert_exporter": "python",
   "pygments_lexer": "ipython3",
   "version": "3.7.12"
  }
 },
 "nbformat": 4,
 "nbformat_minor": 5
}
